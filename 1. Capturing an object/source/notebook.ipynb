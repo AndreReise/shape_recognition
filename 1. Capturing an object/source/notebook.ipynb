{
 "cells": [
  {
   "cell_type": "code",
   "execution_count": 1,
   "metadata": {},
   "outputs": [
    {
     "data": {
      "text/plain": [
       "array([[ True,  True,  True, ...,  True,  True,  True],\n",
       "       [ True,  True,  True, ...,  True,  True,  True],\n",
       "       [ True,  True,  True, ...,  True,  True,  True],\n",
       "       ...,\n",
       "       [ True,  True,  True, ...,  True,  True,  True],\n",
       "       [ True,  True,  True, ...,  True,  True,  True],\n",
       "       [ True,  True,  True, ...,  True,  True,  True]])"
      ]
     },
     "execution_count": 1,
     "metadata": {},
     "output_type": "execute_result"
    }
   ],
   "source": [
    "import matplotlib.pyplot as plt\n",
    "import matplotlib.patches as patches;\n",
    "import numpy as np\n",
    "\n",
    "img = plt.imread(\"sample.png\")\n",
    "img.shape\n",
    "\n",
    "\n",
    "r, g, b = img[:,:,0], img[:,:,1], img[:,:,2]\n",
    "\n",
    "# weighted method to convert RGB(a) to Grayscale\n",
    "# also use constant thresholding - 0.5\n",
    "gray_scale = (0.33 * r + 0.33 * g + 0.33 * b) > 0.5\n",
    "\n",
    "gray_scale"
   ]
  },
  {
   "cell_type": "code",
   "execution_count": 2,
   "metadata": {},
   "outputs": [
    {
     "data": {
      "text/plain": [
       "array([[0, 0, 0, 0, 0, 0, 0, 0, 0, 0, 0, 0, 0, 0, 0, 0, 0, 0, 0, 0, 0, 0],\n",
       "       [0, 0, 0, 0, 0, 0, 0, 0, 0, 0, 0, 0, 0, 0, 0, 0, 0, 0, 0, 0, 0, 0],\n",
       "       [0, 0, 0, 0, 0, 0, 0, 1, 1, 1, 0, 0, 0, 0, 0, 0, 0, 0, 0, 0, 0, 0],\n",
       "       [0, 0, 0, 0, 0, 0, 0, 1, 1, 1, 1, 0, 0, 0, 0, 0, 0, 0, 0, 0, 0, 0],\n",
       "       [0, 0, 0, 0, 0, 0, 0, 1, 1, 1, 1, 0, 0, 0, 0, 0, 0, 0, 0, 0, 0, 0],\n",
       "       [0, 0, 0, 0, 0, 0, 0, 1, 1, 1, 0, 0, 0, 0, 0, 0, 0, 0, 0, 0, 0, 0],\n",
       "       [0, 0, 0, 0, 0, 0, 0, 0, 0, 0, 0, 0, 0, 0, 0, 0, 0, 0, 0, 0, 0, 0],\n",
       "       [0, 0, 0, 0, 0, 0, 0, 0, 0, 0, 0, 0, 0, 0, 0, 0, 0, 0, 0, 0, 0, 0],\n",
       "       [0, 0, 0, 0, 0, 0, 0, 0, 0, 0, 0, 0, 0, 0, 0, 0, 1, 0, 0, 0, 0, 0],\n",
       "       [0, 0, 0, 0, 0, 1, 0, 0, 0, 0, 0, 0, 0, 0, 1, 1, 1, 1, 1, 0, 0, 0],\n",
       "       [0, 0, 0, 0, 1, 1, 0, 0, 0, 0, 0, 0, 0, 0, 1, 1, 1, 1, 1, 0, 0, 0],\n",
       "       [0, 0, 0, 0, 1, 1, 1, 0, 0, 0, 0, 0, 0, 0, 1, 1, 1, 1, 1, 0, 0, 0],\n",
       "       [0, 0, 0, 1, 1, 1, 1, 0, 0, 0, 0, 0, 0, 0, 0, 1, 1, 1, 0, 0, 0, 0],\n",
       "       [0, 0, 0, 1, 1, 1, 1, 1, 0, 0, 0, 0, 0, 0, 0, 0, 0, 0, 0, 0, 0, 0],\n",
       "       [0, 0, 1, 1, 1, 1, 1, 1, 0, 0, 0, 0, 0, 0, 0, 0, 0, 0, 0, 0, 0, 0],\n",
       "       [0, 0, 1, 1, 1, 1, 1, 1, 0, 0, 0, 0, 0, 0, 1, 1, 1, 1, 1, 1, 1, 0],\n",
       "       [0, 0, 0, 0, 0, 0, 0, 0, 0, 0, 0, 0, 0, 0, 1, 1, 1, 1, 1, 1, 1, 0],\n",
       "       [0, 0, 0, 0, 0, 0, 0, 0, 0, 0, 0, 0, 0, 0, 1, 1, 1, 1, 1, 1, 1, 0],\n",
       "       [0, 0, 0, 0, 0, 0, 0, 0, 0, 0, 0, 0, 0, 0, 1, 1, 1, 1, 1, 1, 1, 0],\n",
       "       [0, 0, 0, 0, 0, 0, 0, 0, 0, 0, 0, 0, 0, 0, 1, 1, 1, 1, 1, 1, 1, 0],\n",
       "       [0, 0, 0, 0, 0, 0, 0, 0, 0, 0, 0, 0, 0, 0, 1, 1, 1, 1, 1, 1, 1, 0],\n",
       "       [0, 0, 0, 0, 0, 0, 0, 0, 0, 0, 0, 0, 0, 0, 1, 1, 1, 1, 1, 1, 1, 0]])"
      ]
     },
     "execution_count": 2,
     "metadata": {},
     "output_type": "execute_result"
    }
   ],
   "source": [
    "import sys\n",
    "\n",
    "MAX_INT = sys.maxsize\n",
    "MIN_INT = -1 * sys.maxsize\n",
    "\n",
    "small_patches = []\n",
    "\n",
    "window_size = 25\n",
    "\n",
    "x_sq = 0;\n",
    "y_sq = 0;\n",
    "\n",
    "nodes_count = (int)(550 / window_size);\n",
    "visited_nodes = np.full((nodes_count, nodes_count), 0)\n",
    "nodes = np.full((nodes_count, nodes_count), 0)\n",
    "\n",
    "# function to iterate  through all pixels in the capture window \n",
    "def contains(img, x_start, x_end, y_start, y_end):\n",
    "    for x in range(x_start, x_end):\n",
    "        for y in range(y_start, y_end):\n",
    "            if gray_scale[x, y] == False : return True\n",
    "    \n",
    "    return False\n",
    "\n",
    "while(x_sq * window_size < 550):\n",
    "    y_sq = 0\n",
    "    while(y_sq * window_size < 550):\n",
    "        if contains(gray_scale, x_sq * window_size, (x_sq + 1) * window_size, y_sq * window_size, (y_sq + 1) * window_size):\n",
    "            nodes[x_sq, y_sq] = True\n",
    "\n",
    "            square = patches.Rectangle((y_sq * window_size, x_sq * window_size), window_size, window_size, alpha = 0.5)\n",
    "            small_patches.append(square)\n",
    "\n",
    "        y_sq = y_sq + 1\n",
    "    x_sq = x_sq + 1\n",
    "\n",
    "\n",
    "nodes"
   ]
  },
  {
   "cell_type": "code",
   "execution_count": 3,
   "metadata": {},
   "outputs": [
    {
     "data": {
      "image/png": "[encoded data removed]",
      "text/plain": [
       "<Figure size 432x288 with 1 Axes>"
      ]
     },
     "metadata": {
      "needs_background": "light"
     },
     "output_type": "display_data"
    }
   ],
   "source": [
    "import matplotlib.colors as mcolors\n",
    "\n",
    "fig, ax = plt.subplots()\n",
    "\n",
    "shapes_colors = [i[0] for i in mcolors.TABLEAU_COLORS.items()]\n",
    "shape_index = 0\n",
    "shapes = []\n",
    "\n",
    "class shape:\n",
    "    def __init__(self, x_min, x_max, y_min, y_max, w_size, name):\n",
    "        self.x_min = x_min * w_size\n",
    "        self.x_max = x_max * w_size\n",
    "        self.y_min = y_min * w_size\n",
    "        self.y_max = y_max * w_size\n",
    "        self.w_size = w_size\n",
    "        self.x_center = (int)(((x_min + 1) * w_size + x_max * w_size ) / 2)\n",
    "        self.y_center = (int)(((y_min + 1) * w_size + y_max * w_size ) / 2)\n",
    "        self.name = name\n",
    "\n",
    "    def get_height(self):\n",
    "        return (self.x_max - self.x_min + self.w_size)\n",
    "\n",
    "    def get_width(self):\n",
    "        return (self.y_max - self.y_min + self.w_size)\n",
    "\n",
    "\n",
    "def visit_node(x ,y, x_min, x_max, y_min, y_max):\n",
    "\n",
    "    if x < 0 or x >= nodes_count or y < 0 or y >= nodes_count:\n",
    "        return (MAX_INT, MIN_INT, MAX_INT, MIN_INT);\n",
    "\n",
    "    if visited_nodes[x ,y] == True or nodes[x, y] == False:\n",
    "        return (MAX_INT, MIN_INT, MAX_INT, MIN_INT);\n",
    "    \n",
    "    visited_nodes[x, y] = True\n",
    "\n",
    "    (xmin1, xmax1 , ymin1 , ymax1) = visit_node(x + 1, y, x_min, x + 1, y_min, y_max)\n",
    "    (xmin2, xmax2 , ymin2 , ymax2) = visit_node(x, y + 1, x_min, x_max, y_min, y + 1)\n",
    "    (xmin3, xmax3 , ymin3 , ymax3) = visit_node(x - 1, y, x - 1, x_max, y_min, y_max)\n",
    "    (xmin4, xmax4 , ymin4 , ymax4) = visit_node(x, y - 1, x_min, x_max, y - 1, y_max)\n",
    "\n",
    "    return (\n",
    "        min(x_min, xmin1, xmin2, xmin3, xmin4),\n",
    "        max(x_max, xmax1, xmax2, xmax3, xmax4),\n",
    "        min(y_min, ymin1, ymin2, ymin3, ymin4),\n",
    "        max(y_max, ymax1, ymax2, ymax3, ymax4))    \n",
    "\n",
    "for x in range(0, nodes_count):\n",
    "    for y in range(0, nodes_count):\n",
    "        # skip if we already detect this object\n",
    "        if nodes[x, y] == True and visited_nodes[x, y] == False:\n",
    "            (x_min, x_max, y_min, y_max) = visit_node(x ,y, x , x, y, y)\n",
    "\n",
    "            visited_shape = shape(x_min, x_max, y_min, y_max, window_size, shapes_colors[shape_index])\n",
    "\n",
    "            # rectangle patch\n",
    "            square_patch = patches.Rectangle((visited_shape.y_min, visited_shape.x_min), visited_shape.get_width(), visited_shape.get_height(), color = shapes_colors[shape_index], alpha = 0.7)\n",
    "            ax.add_patch(square_patch)\n",
    "\n",
    "            # dot\n",
    "            plt.plot(visited_shape.y_center, visited_shape.x_center, 'go')\n",
    "\n",
    "            visited_nodes[x, y] = True\n",
    "            shapes.append(visited_shape)\n",
    "            shape_index = shape_index + 1\n",
    "\n",
    "ax.set_xlabel(\"x\")\n",
    "ax.set_ylabel(\"y\")\n",
    "\n",
    "for patch in small_patches:\n",
    "    ax.add_patch(patch)\n",
    "\n",
    "plt.imshow(img)\n",
    "\n",
    "plt.show()"
   ]
  },
  {
   "cell_type": "code",
   "execution_count": null,
   "metadata": {},
   "outputs": [],
   "source": []
  },
  {
   "cell_type": "code",
   "execution_count": 4,
   "metadata": {},
   "outputs": [
    {
     "name": "stdout",
     "output_type": "stream",
     "text": [
      "Shape tab:blue | Shape tab:orange | Distance 247.41261083461367\n",
      "Shape tab:blue | Shape tab:green | Distance 234.4013651837378\n",
      "Shape tab:blue | Shape tab:red | Distance 419.5092370854306\n",
      "Shape tab:orange | Shape tab:green | Distance 291.322844967572\n",
      "Shape tab:orange | Shape tab:red | Distance 201.55644370746373\n",
      "Shape tab:green | Shape tab:red | Distance 346.18492168203977\n"
     ]
    }
   ],
   "source": [
    "import math\n",
    "\n",
    "def calc_and_print_distance(shape1, shape2):\n",
    "    distance = math.sqrt( math.pow(shape1.x_center - shape2.x_center, 2) + math.pow(shape1.y_center - shape2.y_center, 2))\n",
    "\n",
    "    print(\"Shape {} | Shape {} | Distance {}\".format(shape1.name, shape2.name, distance))\n",
    "\n",
    "distances = [calc_and_print_distance(shapes[p1], shapes[p2]) for p1 in range(len(shapes)) for p2 in range(p1+1,len(shapes))]"
   ]
  }
 ],
 "metadata": {
  "kernelspec": {
   "display_name": "Python 3.10.6 64-bit (microsoft store)",
   "language": "python",
   "name": "python3"
  },
  "language_info": {
   "codemirror_mode": {
    "name": "ipython",
    "version": 3
   },
   "file_extension": ".py",
   "mimetype": "text/x-python",
   "name": "python",
   "nbconvert_exporter": "python",
   "pygments_lexer": "ipython3",
   "version": "3.10.6"
  },
  "orig_nbformat": 4,
  "vscode": {
   "interpreter": {
    "hash": "f1bcf77c7044c5425e8a6b3d21cbc3239ad21d990d190187f72fcc703fab7901"
   }
  }
 },
 "nbformat": 4,
 "nbformat_minor": 2
}
